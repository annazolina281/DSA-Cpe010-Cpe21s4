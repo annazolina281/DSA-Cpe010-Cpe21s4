{
  "nbformat": 4,
  "nbformat_minor": 0,
  "metadata": {
    "colab": {
      "provenance": [],
      "authorship_tag": "ABX9TyNwPzIvU0ZOzW1Bs+Hai6Sx",
      "include_colab_link": true
    },
    "kernelspec": {
      "name": "python3",
      "display_name": "Python 3"
    },
    "language_info": {
      "name": "python"
    }
  },
  "cells": [
    {
      "cell_type": "markdown",
      "metadata": {
        "id": "view-in-github",
        "colab_type": "text"
      },
      "source": [
        "<a href=\"https://colab.research.google.com/github/annazolina281/DSA-Cpe010-Cpe21s4/blob/main/Exercise_2.ipynb\" target=\"_parent\"><img src=\"https://colab.research.google.com/assets/colab-badge.svg\" alt=\"Open In Colab\"/></a>"
      ]
    },
    {
      "cell_type": "code",
      "execution_count": 1,
      "metadata": {
        "colab": {
          "base_uri": "https://localhost:8080/"
        },
        "collapsed": true,
        "id": "d-yOD1LU5BNW",
        "outputId": "3c4b1887-0dfd-4763-86dd-91a3c1a4b64c"
      },
      "outputs": [
        {
          "output_type": "stream",
          "name": "stdout",
          "text": [
            "The are of Rectangle is: 12\n",
            "The are of Square is: 9\n",
            "The are of Triangle is: 3.0\n"
          ]
        }
      ],
      "source": [
        "#superclass\n",
        "class Shapes():\n",
        "  def __init__(self, length = 0, width = 0, side = 0, base = 0, height = 0):\n",
        "    self.length = length\n",
        "    self.width = width\n",
        "    self.side = side\n",
        "    self.base = base\n",
        "    self.height = height\n",
        "\n",
        "class Rectangle (Shapes):\n",
        "  def area_rectangle(self):\n",
        "    return self.length * self.width\n",
        "\n",
        "class Square (Shapes):\n",
        "  def area_square(self):\n",
        "    return self.side ** 2\n",
        "\n",
        "class Triangle (Shapes):\n",
        "  def area_triangle(self):\n",
        "    return (self.base * self.height) / 2\n",
        "\n",
        "rectangle = Rectangle(length = 3, width = 4)\n",
        "square = Square(side = 3)\n",
        "triangle = Triangle(base = 2, height = 3)\n",
        "\n",
        "\n",
        "print(f\"The are of Rectangle is: {rectangle.area_rectangle()}\")\n",
        "print(f\"The are of Square is: {square.area_square()}\")\n",
        "print(f\"The are of Triangle is: {triangle.area_triangle()}\")\n"
      ]
    }
  ]
}