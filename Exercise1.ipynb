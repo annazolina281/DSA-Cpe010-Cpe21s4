{
  "nbformat": 4,
  "nbformat_minor": 0,
  "metadata": {
    "colab": {
      "provenance": [],
      "authorship_tag": "ABX9TyNoniXyTS1/myd03TLGgTlU",
      "include_colab_link": true
    },
    "kernelspec": {
      "name": "python3",
      "display_name": "Python 3"
    },
    "language_info": {
      "name": "python"
    }
  },
  "cells": [
    {
      "cell_type": "markdown",
      "metadata": {
        "id": "view-in-github",
        "colab_type": "text"
      },
      "source": [
        "<a href=\"https://colab.research.google.com/github/annazolina281/DSA-Cpe010-Cpe21s4/blob/main/Exercise1.ipynb\" target=\"_parent\"><img src=\"https://colab.research.google.com/assets/colab-badge.svg\" alt=\"Open In Colab\"/></a>"
      ]
    },
    {
      "cell_type": "code",
      "execution_count": 36,
      "metadata": {
        "colab": {
          "base_uri": "https://localhost:8080/"
        },
        "outputId": "076195cb-f27e-4fac-c204-1937c35e306d",
        "id": "184GIgb3qtXl"
      },
      "outputs": [
        {
          "output_type": "stream",
          "name": "stdout",
          "text": [
            "Enter the length of rectangle: 1000\n",
            "Enter the width of rectangle: 2\n",
            "Value of area is: 2000\n"
          ]
        }
      ],
      "source": [
        "class Rectangle():\n",
        "    def __init__(self,length,width):\n",
        "        self.length = length\n",
        "        self.width = width\n",
        "\n",
        "    def area(self):\n",
        "        return self.length*self.width\n",
        "\n",
        "length = int(input(\"Enter the length of rectangle: \"))\n",
        "width = int(input(\"Enter the width of rectangle: \"))\n",
        "\n",
        "calculation_of_area = Rectangle(length,width)\n",
        "print(f\"Value of area is: {calculation_of_area.area()}\" )\n"
      ]
    }
  ]
}